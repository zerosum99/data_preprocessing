{
 "cells": [
  {
   "cell_type": "code",
   "execution_count": 4,
   "metadata": {},
   "outputs": [],
   "source": [
    "%matplotlib inline\n",
    "import pandas as pd"
   ]
  },
  {
   "cell_type": "markdown",
   "metadata": {},
   "source": [
    "# How pandas uses matplotlib plus figures axes and subplots\n",
    "\n",
    "\n",
    "     http://jonathansoma.com/lede/algorithms-2017/classes/fuzziness-matplotlib/how-pandas-uses-matplotlib-plus-figures-axes-and-subplots/"
   ]
  },
  {
   "cell_type": "code",
   "execution_count": 5,
   "metadata": {},
   "outputs": [
    {
     "data": {
      "text/html": [
       "<div>\n",
       "<style scoped>\n",
       "    .dataframe tbody tr th:only-of-type {\n",
       "        vertical-align: middle;\n",
       "    }\n",
       "\n",
       "    .dataframe tbody tr th {\n",
       "        vertical-align: top;\n",
       "    }\n",
       "\n",
       "    .dataframe thead th {\n",
       "        text-align: right;\n",
       "    }\n",
       "</style>\n",
       "<table border=\"1\" class=\"dataframe\">\n",
       "  <thead>\n",
       "    <tr style=\"text-align: right;\">\n",
       "      <th></th>\n",
       "      <th>LOCATION</th>\n",
       "      <th>INDICATOR</th>\n",
       "      <th>SUBJECT</th>\n",
       "      <th>MEASURE</th>\n",
       "      <th>FREQUENCY</th>\n",
       "      <th>TIME</th>\n",
       "      <th>Value</th>\n",
       "      <th>Flag Codes</th>\n",
       "    </tr>\n",
       "  </thead>\n",
       "  <tbody>\n",
       "    <tr>\n",
       "      <th>0</th>\n",
       "      <td>AUS</td>\n",
       "      <td>UNEMP</td>\n",
       "      <td>MEN</td>\n",
       "      <td>PC_LF</td>\n",
       "      <td>A</td>\n",
       "      <td>1979</td>\n",
       "      <td>5.162579</td>\n",
       "      <td>NaN</td>\n",
       "    </tr>\n",
       "    <tr>\n",
       "      <th>1</th>\n",
       "      <td>AUS</td>\n",
       "      <td>UNEMP</td>\n",
       "      <td>MEN</td>\n",
       "      <td>PC_LF</td>\n",
       "      <td>A</td>\n",
       "      <td>1980</td>\n",
       "      <td>5.068766</td>\n",
       "      <td>NaN</td>\n",
       "    </tr>\n",
       "    <tr>\n",
       "      <th>2</th>\n",
       "      <td>AUS</td>\n",
       "      <td>UNEMP</td>\n",
       "      <td>MEN</td>\n",
       "      <td>PC_LF</td>\n",
       "      <td>A</td>\n",
       "      <td>1981</td>\n",
       "      <td>4.808415</td>\n",
       "      <td>NaN</td>\n",
       "    </tr>\n",
       "  </tbody>\n",
       "</table>\n",
       "</div>"
      ],
      "text/plain": [
       "  LOCATION INDICATOR SUBJECT MEASURE FREQUENCY  TIME     Value Flag Codes\n",
       "0      AUS     UNEMP     MEN   PC_LF         A  1979  5.162579        NaN\n",
       "1      AUS     UNEMP     MEN   PC_LF         A  1980  5.068766        NaN\n",
       "2      AUS     UNEMP     MEN   PC_LF         A  1981  4.808415        NaN"
      ]
     },
     "execution_count": 5,
     "metadata": {},
     "output_type": "execute_result"
    }
   ],
   "source": [
    "df = pd.read_csv(\"./data/DP_LIVE_unemployments.csv\")\n",
    "df.head(3)"
   ]
  },
  {
   "cell_type": "code",
   "execution_count": 7,
   "metadata": {},
   "outputs": [
    {
     "data": {
      "text/plain": [
       "Index(['LOCATION', 'INDICATOR', 'SUBJECT', 'MEASURE', 'FREQUENCY', 'TIME',\n",
       "       'Value', 'Flag Codes'],\n",
       "      dtype='object')"
      ]
     },
     "execution_count": 7,
     "metadata": {},
     "output_type": "execute_result"
    }
   ],
   "source": [
    "df.columns"
   ]
  },
  {
   "cell_type": "markdown",
   "metadata": {},
   "source": [
    "### 그룹화된 결과 확인하기 "
   ]
  },
  {
   "cell_type": "code",
   "execution_count": 15,
   "metadata": {},
   "outputs": [
    {
     "data": {
      "text/plain": [
       "{'AUS': Int64Index([    0,     1,     2,     3,     4,     5,     6,     7,     8,\n",
       "                 9,\n",
       "             ...\n",
       "             16745, 16746, 16747, 16748, 16749, 16750, 16751, 16752, 16753,\n",
       "             16754],\n",
       "            dtype='int64', length=2144),\n",
       " 'AUT': Int64Index([ 132,  133,  134,  135,  136,  137,  138,  139,  140,  141,\n",
       "             ...\n",
       "             4199, 4200, 4201, 4202, 4203, 4204, 4205, 4206, 4207, 4208],\n",
       "            dtype='int64', length=744),\n",
       " 'BEL': Int64Index([ 279,  280,  281,  282,  283,  284,  285,  286,  287,  288,\n",
       "             ...\n",
       "             4436, 4437, 4438, 4439, 4440, 4441, 4442, 4443, 4444, 4445],\n",
       "            dtype='int64', length=294),\n",
       " 'BRA': Int64Index([ 2506,  2507,  2508,  2509,  2510,  2511,  2512,  2513,  2514,\n",
       "              2515,\n",
       "             ...\n",
       "             25696, 25697, 25698, 25699, 25700, 25701, 25702, 25703, 25704,\n",
       "             25705],\n",
       "            dtype='int64', length=592),\n",
       " 'CAN': Int64Index([  336,   337,   338,   339,   340,   341,   342,   343,   344,\n",
       "               345,\n",
       "             ...\n",
       "             19031, 19032, 19033, 19034, 19035, 19036, 19037, 19038, 19039,\n",
       "             19040],\n",
       "            dtype='int64', length=3236),\n",
       " 'CHE': Int64Index([ 2197,  2198,  2199,  2200,  2201,  2202,  2203,  2204,  2205,\n",
       "              2206,\n",
       "             ...\n",
       "             12079, 12080, 12081, 12082, 12083, 12084, 12085, 12086, 12087,\n",
       "             12088],\n",
       "            dtype='int64', length=170),\n",
       " 'CHL': Int64Index([ 2540,  2541,  2542,  2543,  2544,  2545,  2546,  2547,  2548,\n",
       "              2549,\n",
       "             ...\n",
       "             26884, 26885, 26886, 26887, 26888, 26889, 26890, 26891, 26892,\n",
       "             26893],\n",
       "            dtype='int64', length=1683),\n",
       " 'COL': Int64Index([27353, 27354, 27355, 27356, 27357, 27358, 27359, 27360, 27361,\n",
       "             27362,\n",
       "             ...\n",
       "             27958, 27959, 27960, 27961, 27962, 27963, 27964, 27965, 27966,\n",
       "             27967],\n",
       "            dtype='int64', length=615),\n",
       " 'CZE': Int64Index([ 526,  527,  528,  529,  530,  531,  532,  533,  534,  535,\n",
       "             ...\n",
       "             5445, 5446, 5447, 5448, 5449, 5450, 5451, 5452, 5453, 5454],\n",
       "            dtype='int64', length=309),\n",
       " 'DEU': Int64Index([ 766,  767,  768,  769,  770,  771,  772,  773,  774,  775,\n",
       "             ...\n",
       "             6915, 6916, 6917, 6918, 6919, 6920, 6921, 6922, 6923, 6924],\n",
       "            dtype='int64', length=845),\n",
       " 'DNK': Int64Index([ 586,  587,  588,  589,  590,  591,  592,  593,  594,  595,\n",
       "             ...\n",
       "             5793, 5794, 5795, 5796, 5797, 5798, 5799, 5800, 5801, 5802],\n",
       "            dtype='int64', length=420),\n",
       " 'EA19': Int64Index([27149, 27150, 27151, 27152, 27153, 27154, 27155, 27156, 27157,\n",
       "             27158,\n",
       "             ...\n",
       "             27343, 27344, 27345, 27346, 27347, 27348, 27349, 27350, 27351,\n",
       "             27352],\n",
       "            dtype='int64', length=204),\n",
       " 'ESP': Int64Index([ 2083,  2084,  2085,  2086,  2087,  2088,  2089,  2090,  2091,\n",
       "              2092,\n",
       "             ...\n",
       "             11720, 11721, 11722, 11723, 11724, 11725, 11726, 11727, 11728,\n",
       "             11729],\n",
       "            dtype='int64', length=300),\n",
       " 'EST': Int64Index([ 2639,  2640,  2641,  2642,  2643,  2644,  2645,  2646,  2647,\n",
       "              2648,\n",
       "             ...\n",
       "             13997, 13998, 13999, 14000, 14001, 14002, 14003, 14004, 14005,\n",
       "             14006],\n",
       "            dtype='int64', length=285),\n",
       " 'EU28': Int64Index([ 2998,  2999,  3000,  3001,  3002,  3003,  3004,  3005,  3006,\n",
       "              3007,\n",
       "             ...\n",
       "             15104, 15105, 15106, 15107, 15108, 15109, 15110, 15111, 15112,\n",
       "             15113],\n",
       "            dtype='int64', length=204),\n",
       " 'FIN': Int64Index([ 658,  659,  660,  661,  662,  663,  664,  665,  666,  667,\n",
       "             ...\n",
       "             6042, 6043, 6044, 6045, 6046, 6047, 6048, 6049, 6050, 6051],\n",
       "            dtype='int64', length=309),\n",
       " 'FRA': Int64Index([ 718,  719,  720,  721,  722,  723,  724,  725,  726,  727,\n",
       "             ...\n",
       "             6234, 6235, 6236, 6237, 6238, 6239, 6240, 6241, 6242, 6243],\n",
       "            dtype='int64', length=240),\n",
       " 'GBR': Int64Index([ 2260,  2261,  2262,  2263,  2264,  2265,  2266,  2267,  2268,\n",
       "              2269,\n",
       "             ...\n",
       "             12466, 12467, 12468, 12469, 12470, 12471, 12472, 12473, 12474,\n",
       "             12475],\n",
       "            dtype='int64', length=288),\n",
       " 'GRC': Int64Index([ 930,  931,  932,  933,  934,  935,  936,  937,  938,  939,\n",
       "             ...\n",
       "             7260, 7261, 7262, 7263, 7264, 7265, 7266, 7267, 7268, 7269],\n",
       "            dtype='int64', length=405),\n",
       " 'HUN': Int64Index([ 990,  991,  992,  993,  994,  995,  996,  997,  998,  999,\n",
       "             ...\n",
       "             7497, 7498, 7499, 7500, 7501, 7502, 7503, 7504, 7505, 7506],\n",
       "            dtype='int64', length=294),\n",
       " 'IDN': Int64Index([2696, 2697, 2698, 2699, 2700, 2701, 2702, 2703, 2704, 2705, 2706,\n",
       "             2707, 2708, 2709, 2710, 2711, 2712, 2713, 2714, 2715, 2716, 2717,\n",
       "             2718, 2719, 2720, 2721, 2722, 2723, 2724, 2725, 2726, 2727, 2728,\n",
       "             2729, 2730, 2731],\n",
       "            dtype='int64'),\n",
       " 'IRL': Int64Index([1092, 1093, 1094, 1095, 1096, 1097, 1098, 1099, 1100, 1101,\n",
       "             ...\n",
       "             8031, 8032, 8033, 8034, 8035, 8036, 8037, 8038, 8039, 8040],\n",
       "            dtype='int64', length=405),\n",
       " 'ISL': Int64Index([1047, 1048, 1049, 1050, 1051, 1052, 1053, 1054, 1055, 1056,\n",
       "             ...\n",
       "             7686, 7687, 7688, 7689, 7690, 7691, 7692, 7693, 7694, 7695],\n",
       "            dtype='int64', length=234),\n",
       " 'ISR': Int64Index([ 2732,  2733,  2734,  2735,  2736,  2737,  2738,  2739,  2740,\n",
       "              2741,\n",
       "             ...\n",
       "             27139, 27140, 27141, 27142, 27143, 27144, 27145, 27146, 27147,\n",
       "             27148],\n",
       "            dtype='int64', length=615),\n",
       " 'ITA': Int64Index([1152, 1153, 1154, 1155, 1156, 1157, 1158, 1159, 1160, 1161,\n",
       "             ...\n",
       "             8280, 8281, 8282, 8283, 8284, 8285, 8286, 8287, 8288, 8289],\n",
       "            dtype='int64', length=309),\n",
       " 'JPN': Int64Index([ 1212,  1213,  1214,  1215,  1216,  1217,  1218,  1219,  1220,\n",
       "              1221,\n",
       "             ...\n",
       "             21386, 21387, 21388, 21389, 21390, 21391, 21392, 21393, 21394,\n",
       "             21395],\n",
       "            dtype='int64', length=3335),\n",
       " 'KOR': Int64Index([ 1408,  1409,  1410,  1411,  1412,  1413,  1414,  1415,  1416,\n",
       "              1417,\n",
       "             ...\n",
       "             22457, 22458, 22459, 22460, 22461, 22462, 22463, 22464, 22465,\n",
       "             22466],\n",
       "            dtype='int64', length=1517),\n",
       " 'LTU': Int64Index([28223, 28224, 28225, 28226, 28227, 28228, 28229, 28230, 28231,\n",
       "             28232,\n",
       "             ...\n",
       "             28423, 28424, 28425, 28426, 28427, 28428, 28429, 28430, 28431,\n",
       "             28432],\n",
       "            dtype='int64', length=210),\n",
       " 'LUX': Int64Index([1498, 1499, 1500, 1501, 1502, 1503, 1504, 1505, 1506, 1507,\n",
       "             ...\n",
       "             9561, 9562, 9563, 9564, 9565, 9566, 9567, 9568, 9569, 9570],\n",
       "            dtype='int64', length=186),\n",
       " 'LVA': Int64Index([27968, 27969, 27970, 27971, 27972, 27973, 27974, 27975, 27976,\n",
       "             27977,\n",
       "             ...\n",
       "             28213, 28214, 28215, 28216, 28217, 28218, 28219, 28220, 28221,\n",
       "             28222],\n",
       "            dtype='int64', length=255),\n",
       " 'MEX': Int64Index([ 1543,  1544,  1545,  1546,  1547,  1548,  1549,  1550,  1551,\n",
       "              1552,\n",
       "             ...\n",
       "             22967, 22968, 22969, 22970, 22971, 22972, 22973, 22974, 22975,\n",
       "             22976],\n",
       "            dtype='int64', length=814),\n",
       " 'NLD': Int64Index([ 1607,  1608,  1609,  1610,  1611,  1612,  1613,  1614,  1615,\n",
       "              1616,\n",
       "             ...\n",
       "             10050, 10051, 10052, 10053, 10054, 10055, 10056, 10057, 10058,\n",
       "             10059],\n",
       "            dtype='int64', length=303),\n",
       " 'NOR': Int64Index([ 1837,  1838,  1839,  1840,  1841,  1842,  1843,  1844,  1845,\n",
       "              1846,\n",
       "             ...\n",
       "             10674, 10675, 10676, 10677, 10678, 10679, 10680, 10681, 10682,\n",
       "             10683],\n",
       "            dtype='int64', length=285),\n",
       " 'NZL': Int64Index([ 1661,  1662,  1663,  1664,  1665,  1666,  1667,  1668,  1669,\n",
       "              1670,\n",
       "             ...\n",
       "             10446, 10447, 10448, 10449, 10450, 10451, 10452, 10453, 10454,\n",
       "             10455],\n",
       "            dtype='int64', length=572),\n",
       " 'OECD': Int64Index([ 3037,  3038,  3039,  3040,  3041,  3042,  3043,  3044,  3045,\n",
       "              3046,\n",
       "             ...\n",
       "             15269, 15270, 15271, 15272, 15273, 15274, 15275, 15276, 15277,\n",
       "             15278],\n",
       "            dtype='int64', length=204),\n",
       " 'POL': Int64Index([ 1894,  1895,  1896,  1897,  1898,  1899,  1900,  1901,  1902,\n",
       "              1903,\n",
       "             ...\n",
       "             10928, 10929, 10930, 10931, 10932, 10933, 10934, 10935, 10936,\n",
       "             10937],\n",
       "            dtype='int64', length=308),\n",
       " 'PRT': Int64Index([ 1948,  1949,  1950,  1951,  1952,  1953,  1954,  1955,  1956,\n",
       "              1957,\n",
       "             ...\n",
       "             11180, 11181, 11182, 11183, 11184, 11185, 11186, 11187, 11188,\n",
       "             11189],\n",
       "            dtype='int64', length=315),\n",
       " 'RUS': Int64Index([ 2804,  2805,  2806,  2807,  2808,  2809,  2810,  2811,  2812,\n",
       "              2813,\n",
       "             ...\n",
       "             14525, 14526, 14527, 14528, 14529, 14530, 14531, 14532, 14533,\n",
       "             14534],\n",
       "            dtype='int64', length=320),\n",
       " 'SVK': Int64Index([ 2011,  2012,  2013,  2014,  2015,  2016,  2017,  2018,  2019,\n",
       "              2020,\n",
       "             ...\n",
       "             11480, 11481, 11482, 11483, 11484, 11485, 11486, 11487, 11488,\n",
       "             11489],\n",
       "            dtype='int64', length=372),\n",
       " 'SVN': Int64Index([ 2884,  2885,  2886,  2887,  2888,  2889,  2890,  2891,  2892,\n",
       "              2893,\n",
       "             ...\n",
       "             14762, 14763, 14764, 14765, 14766, 14767, 14768, 14769, 14770,\n",
       "             14771],\n",
       "            dtype='int64', length=294),\n",
       " 'SWE': Int64Index([ 2143,  2144,  2145,  2146,  2147,  2148,  2149,  2150,  2151,\n",
       "              2152,\n",
       "             ...\n",
       "             11936, 11937, 11938, 11939, 11940, 11941, 11942, 11943, 11944,\n",
       "             11945],\n",
       "            dtype='int64', length=270),\n",
       " 'TUR': Int64Index([ 2224,  2225,  2226,  2227,  2228,  2229,  2230,  2231,  2232,\n",
       "              2233,\n",
       "             ...\n",
       "             12232, 12233, 12234, 12235, 12236, 12237, 12238, 12239, 12240,\n",
       "             12241],\n",
       "            dtype='int64', length=189),\n",
       " 'USA': Int64Index([ 2314,  2315,  2316,  2317,  2318,  2319,  2320,  2321,  2322,\n",
       "              2323,\n",
       "             ...\n",
       "             25277, 25278, 25279, 25280, 25281, 25282, 25283, 25284, 25285,\n",
       "             25286],\n",
       "            dtype='int64', length=3270),\n",
       " 'ZAF': Int64Index([ 2941,  2942,  2943,  2944,  2945,  2946,  2947,  2948,  2949,\n",
       "              2950,\n",
       "             ...\n",
       "             14939, 14940, 14941, 14942, 14943, 14944, 14945, 14946, 14947,\n",
       "             14948],\n",
       "            dtype='int64', length=234)}"
      ]
     },
     "execution_count": 15,
     "metadata": {},
     "output_type": "execute_result"
    }
   ],
   "source": [
    "df.groupby('LOCATION').groups"
   ]
  },
  {
   "cell_type": "markdown",
   "metadata": {},
   "source": [
    "### 호주에 대해서만 조회하기 "
   ]
  },
  {
   "cell_type": "code",
   "execution_count": 14,
   "metadata": {},
   "outputs": [
    {
     "data": {
      "text/plain": [
       "<matplotlib.axes._subplots.AxesSubplot at 0x2800b799f28>"
      ]
     },
     "execution_count": 14,
     "metadata": {},
     "output_type": "execute_result"
    },
    {
     "data": {
      "image/png": "[encoded data removed]",
      "text/plain": [
       "<Figure size 432x288 with 1 Axes>"
      ]
     },
     "metadata": {
      "needs_background": "light"
     },
     "output_type": "display_data"
    }
   ],
   "source": [
    "df.groupby('LOCATION').get_group('AUS').plot(x='TIME')"
   ]
  },
  {
   "cell_type": "code",
   "execution_count": null,
   "metadata": {},
   "outputs": [],
   "source": []
  },
  {
   "cell_type": "code",
   "execution_count": 20,
   "metadata": {},
   "outputs": [
    {
     "data": {
      "text/plain": [
       "1517"
      ]
     },
     "execution_count": 20,
     "metadata": {},
     "output_type": "execute_result"
    }
   ],
   "source": [
    "(df['LOCATION'] == 'KOR').sum()"
   ]
  },
  {
   "cell_type": "code",
   "execution_count": null,
   "metadata": {},
   "outputs": [],
   "source": []
  },
  {
   "cell_type": "code",
   "execution_count": 22,
   "metadata": {},
   "outputs": [],
   "source": [
    "df_kor = df.loc[df['LOCATION'] == 'KOR']"
   ]
  },
  {
   "cell_type": "code",
   "execution_count": 24,
   "metadata": {},
   "outputs": [
    {
     "data": {
      "text/html": [
       "<div>\n",
       "<style scoped>\n",
       "    .dataframe tbody tr th:only-of-type {\n",
       "        vertical-align: middle;\n",
       "    }\n",
       "\n",
       "    .dataframe tbody tr th {\n",
       "        vertical-align: top;\n",
       "    }\n",
       "\n",
       "    .dataframe thead th {\n",
       "        text-align: right;\n",
       "    }\n",
       "</style>\n",
       "<table border=\"1\" class=\"dataframe\">\n",
       "  <thead>\n",
       "    <tr style=\"text-align: right;\">\n",
       "      <th></th>\n",
       "      <th>LOCATION</th>\n",
       "      <th>INDICATOR</th>\n",
       "      <th>SUBJECT</th>\n",
       "      <th>MEASURE</th>\n",
       "      <th>FREQUENCY</th>\n",
       "      <th>TIME</th>\n",
       "      <th>Value</th>\n",
       "      <th>Flag Codes</th>\n",
       "    </tr>\n",
       "  </thead>\n",
       "  <tbody>\n",
       "    <tr>\n",
       "      <th>1408</th>\n",
       "      <td>KOR</td>\n",
       "      <td>UNEMP</td>\n",
       "      <td>MEN</td>\n",
       "      <td>PC_LF</td>\n",
       "      <td>A</td>\n",
       "      <td>1989</td>\n",
       "      <td>3.068215</td>\n",
       "      <td>NaN</td>\n",
       "    </tr>\n",
       "    <tr>\n",
       "      <th>1409</th>\n",
       "      <td>KOR</td>\n",
       "      <td>UNEMP</td>\n",
       "      <td>MEN</td>\n",
       "      <td>PC_LF</td>\n",
       "      <td>A</td>\n",
       "      <td>1990</td>\n",
       "      <td>2.920265</td>\n",
       "      <td>B</td>\n",
       "    </tr>\n",
       "    <tr>\n",
       "      <th>1410</th>\n",
       "      <td>KOR</td>\n",
       "      <td>UNEMP</td>\n",
       "      <td>MEN</td>\n",
       "      <td>PC_LF</td>\n",
       "      <td>A</td>\n",
       "      <td>1991</td>\n",
       "      <td>2.705938</td>\n",
       "      <td>NaN</td>\n",
       "    </tr>\n",
       "    <tr>\n",
       "      <th>1411</th>\n",
       "      <td>KOR</td>\n",
       "      <td>UNEMP</td>\n",
       "      <td>MEN</td>\n",
       "      <td>PC_LF</td>\n",
       "      <td>A</td>\n",
       "      <td>1992</td>\n",
       "      <td>2.775676</td>\n",
       "      <td>NaN</td>\n",
       "    </tr>\n",
       "    <tr>\n",
       "      <th>1412</th>\n",
       "      <td>KOR</td>\n",
       "      <td>UNEMP</td>\n",
       "      <td>MEN</td>\n",
       "      <td>PC_LF</td>\n",
       "      <td>A</td>\n",
       "      <td>1993</td>\n",
       "      <td>3.298706</td>\n",
       "      <td>NaN</td>\n",
       "    </tr>\n",
       "  </tbody>\n",
       "</table>\n",
       "</div>"
      ],
      "text/plain": [
       "     LOCATION INDICATOR SUBJECT MEASURE FREQUENCY  TIME     Value Flag Codes\n",
       "1408      KOR     UNEMP     MEN   PC_LF         A  1989  3.068215        NaN\n",
       "1409      KOR     UNEMP     MEN   PC_LF         A  1990  2.920265          B\n",
       "1410      KOR     UNEMP     MEN   PC_LF         A  1991  2.705938        NaN\n",
       "1411      KOR     UNEMP     MEN   PC_LF         A  1992  2.775676        NaN\n",
       "1412      KOR     UNEMP     MEN   PC_LF         A  1993  3.298706        NaN"
      ]
     },
     "execution_count": 24,
     "metadata": {},
     "output_type": "execute_result"
    }
   ],
   "source": [
    "df_kor.head()"
   ]
  },
  {
   "cell_type": "code",
   "execution_count": 25,
   "metadata": {},
   "outputs": [
    {
     "data": {
      "text/html": [
       "<div>\n",
       "<style scoped>\n",
       "    .dataframe tbody tr th:only-of-type {\n",
       "        vertical-align: middle;\n",
       "    }\n",
       "\n",
       "    .dataframe tbody tr th {\n",
       "        vertical-align: top;\n",
       "    }\n",
       "\n",
       "    .dataframe thead th {\n",
       "        text-align: right;\n",
       "    }\n",
       "</style>\n",
       "<table border=\"1\" class=\"dataframe\">\n",
       "  <thead>\n",
       "    <tr style=\"text-align: right;\">\n",
       "      <th></th>\n",
       "      <th>LOCATION</th>\n",
       "      <th>INDICATOR</th>\n",
       "      <th>SUBJECT</th>\n",
       "      <th>MEASURE</th>\n",
       "      <th>FREQUENCY</th>\n",
       "      <th>TIME</th>\n",
       "      <th>Value</th>\n",
       "      <th>Flag Codes</th>\n",
       "    </tr>\n",
       "  </thead>\n",
       "  <tbody>\n",
       "    <tr>\n",
       "      <th>22462</th>\n",
       "      <td>KOR</td>\n",
       "      <td>UNEMP</td>\n",
       "      <td>WOMEN</td>\n",
       "      <td>PC_LF</td>\n",
       "      <td>M</td>\n",
       "      <td>2018-09</td>\n",
       "      <td>4.0</td>\n",
       "      <td>NaN</td>\n",
       "    </tr>\n",
       "    <tr>\n",
       "      <th>22463</th>\n",
       "      <td>KOR</td>\n",
       "      <td>UNEMP</td>\n",
       "      <td>WOMEN</td>\n",
       "      <td>PC_LF</td>\n",
       "      <td>M</td>\n",
       "      <td>2018-10</td>\n",
       "      <td>3.8</td>\n",
       "      <td>NaN</td>\n",
       "    </tr>\n",
       "    <tr>\n",
       "      <th>22464</th>\n",
       "      <td>KOR</td>\n",
       "      <td>UNEMP</td>\n",
       "      <td>WOMEN</td>\n",
       "      <td>PC_LF</td>\n",
       "      <td>M</td>\n",
       "      <td>2018-11</td>\n",
       "      <td>3.6</td>\n",
       "      <td>NaN</td>\n",
       "    </tr>\n",
       "    <tr>\n",
       "      <th>22465</th>\n",
       "      <td>KOR</td>\n",
       "      <td>UNEMP</td>\n",
       "      <td>WOMEN</td>\n",
       "      <td>PC_LF</td>\n",
       "      <td>M</td>\n",
       "      <td>2018-12</td>\n",
       "      <td>3.5</td>\n",
       "      <td>NaN</td>\n",
       "    </tr>\n",
       "    <tr>\n",
       "      <th>22466</th>\n",
       "      <td>KOR</td>\n",
       "      <td>UNEMP</td>\n",
       "      <td>WOMEN</td>\n",
       "      <td>PC_LF</td>\n",
       "      <td>M</td>\n",
       "      <td>2019-01</td>\n",
       "      <td>4.3</td>\n",
       "      <td>NaN</td>\n",
       "    </tr>\n",
       "  </tbody>\n",
       "</table>\n",
       "</div>"
      ],
      "text/plain": [
       "      LOCATION INDICATOR SUBJECT MEASURE FREQUENCY     TIME  Value Flag Codes\n",
       "22462      KOR     UNEMP   WOMEN   PC_LF         M  2018-09    4.0        NaN\n",
       "22463      KOR     UNEMP   WOMEN   PC_LF         M  2018-10    3.8        NaN\n",
       "22464      KOR     UNEMP   WOMEN   PC_LF         M  2018-11    3.6        NaN\n",
       "22465      KOR     UNEMP   WOMEN   PC_LF         M  2018-12    3.5        NaN\n",
       "22466      KOR     UNEMP   WOMEN   PC_LF         M  2019-01    4.3        NaN"
      ]
     },
     "execution_count": 25,
     "metadata": {},
     "output_type": "execute_result"
    }
   ],
   "source": [
    "df_kor.tail()"
   ]
  },
  {
   "cell_type": "code",
   "execution_count": 17,
   "metadata": {},
   "outputs": [
    {
     "data": {
      "text/plain": [
       "Int64Index([ 1408,  1409,  1410,  1411,  1412,  1413,  1414,  1415,  1416,\n",
       "             1417,\n",
       "            ...\n",
       "            22457, 22458, 22459, 22460, 22461, 22462, 22463, 22464, 22465,\n",
       "            22466],\n",
       "           dtype='int64', length=1517)"
      ]
     },
     "execution_count": 17,
     "metadata": {},
     "output_type": "execute_result"
    }
   ],
   "source": [
    "df.groupby('LOCATION').groups['KOR']"
   ]
  },
  {
   "cell_type": "code",
   "execution_count": 16,
   "metadata": {},
   "outputs": [
    {
     "data": {
      "text/plain": [
       "<matplotlib.axes._subplots.AxesSubplot at 0x2800a1b0358>"
      ]
     },
     "execution_count": 16,
     "metadata": {},
     "output_type": "execute_result"
    },
    {
     "data": {
      "image/png": "[encoded data removed]",
      "text/plain": [
       "<Figure size 432x288 with 1 Axes>"
      ]
     },
     "metadata": {
      "needs_background": "light"
     },
     "output_type": "display_data"
    }
   ],
   "source": [
    "df.groupby('LOCATION').get_group('KOR').plot(x='TIME')"
   ]
  },
  {
   "cell_type": "code",
   "execution_count": null,
   "metadata": {},
   "outputs": [],
   "source": []
  }
 ],
 "metadata": {
  "kernelspec": {
   "display_name": "Python 3",
   "language": "python",
   "name": "python3"
  },
  "language_info": {
   "codemirror_mode": {
    "name": "ipython",
    "version": 3
   },
   "file_extension": ".py",
   "mimetype": "text/x-python",
   "name": "python",
   "nbconvert_exporter": "python",
   "pygments_lexer": "ipython3",
   "version": "3.7.2"
  }
 },
 "nbformat": 4,
 "nbformat_minor": 2
}

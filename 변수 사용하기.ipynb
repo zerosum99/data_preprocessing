{
 "cells": [
  {
   "cell_type": "code",
   "execution_count": 1,
   "metadata": {},
   "outputs": [],
   "source": [
    "import tensorflow as tf"
   ]
  },
  {
   "cell_type": "code",
   "execution_count": 2,
   "metadata": {},
   "outputs": [
    {
     "data": {
      "text/plain": [
       "'1.12.0'"
      ]
     },
     "execution_count": 2,
     "metadata": {},
     "output_type": "execute_result"
    }
   ],
   "source": [
    "tf.__version__"
   ]
  },
  {
   "cell_type": "markdown",
   "metadata": {},
   "source": [
    "## 사용작용하는 세션 만들기"
   ]
  },
  {
   "cell_type": "code",
   "execution_count": 3,
   "metadata": {},
   "outputs": [],
   "source": [
    "sess = tf.InteractiveSession()"
   ]
  },
  {
   "cell_type": "code",
   "execution_count": 4,
   "metadata": {},
   "outputs": [],
   "source": [
    "raw = [1,5,6,7,10,20]"
   ]
  },
  {
   "cell_type": "markdown",
   "metadata": {},
   "source": [
    "## 변수 지정하기 "
   ]
  },
  {
   "cell_type": "code",
   "execution_count": 5,
   "metadata": {},
   "outputs": [],
   "source": [
    "spike = tf.Variable(False)"
   ]
  },
  {
   "cell_type": "markdown",
   "metadata": {},
   "source": [
    "## 변수 초기화하기 "
   ]
  },
  {
   "cell_type": "code",
   "execution_count": 6,
   "metadata": {},
   "outputs": [],
   "source": [
    "spike.initializer.run()"
   ]
  },
  {
   "cell_type": "code",
   "execution_count": 7,
   "metadata": {},
   "outputs": [
    {
     "data": {
      "text/plain": [
       "False"
      ]
     },
     "execution_count": 7,
     "metadata": {},
     "output_type": "execute_result"
    }
   ],
   "source": [
    "spike.eval()"
   ]
  },
  {
   "cell_type": "code",
   "execution_count": 8,
   "metadata": {},
   "outputs": [
    {
     "name": "stdout",
     "output_type": "stream",
     "text": [
      " false exec\n",
      "Spike False\n",
      " false exec\n",
      "Spike False\n",
      " false exec\n",
      "Spike False\n",
      " false exec\n",
      "Spike False\n",
      " true exec\n",
      "Spike True\n"
     ]
    }
   ],
   "source": [
    "for i in range(1, len(raw)) :\n",
    "    if raw[i] - raw[i-1] > 5 :\n",
    "        print(\" true exec\")\n",
    "        tf.assign(spike, True).eval()\n",
    "        \n",
    "    else :\n",
    "        print(\" false exec\")\n",
    "        tf.assign(spike, False).eval()\n",
    "    print(\"Spike\", spike.eval())"
   ]
  },
  {
   "cell_type": "code",
   "execution_count": 9,
   "metadata": {},
   "outputs": [
    {
     "data": {
      "text/plain": [
       "True"
      ]
     },
     "execution_count": 9,
     "metadata": {},
     "output_type": "execute_result"
    }
   ],
   "source": [
    "spike.eval()"
   ]
  },
  {
   "cell_type": "code",
   "execution_count": 24,
   "metadata": {},
   "outputs": [],
   "source": [
    "sess.close()"
   ]
  },
  {
   "cell_type": "markdown",
   "metadata": {},
   "source": [
    "## 변수 저장하기 "
   ]
  },
  {
   "cell_type": "code",
   "execution_count": 32,
   "metadata": {},
   "outputs": [],
   "source": [
    "sess = tf.InteractiveSession()"
   ]
  },
  {
   "cell_type": "code",
   "execution_count": 33,
   "metadata": {},
   "outputs": [],
   "source": [
    "spikes = tf.Variable([False] *len(raw), name='spikes')"
   ]
  },
  {
   "cell_type": "code",
   "execution_count": 34,
   "metadata": {},
   "outputs": [],
   "source": [
    "spikes.initializer.run()"
   ]
  },
  {
   "cell_type": "code",
   "execution_count": 35,
   "metadata": {},
   "outputs": [
    {
     "data": {
      "text/plain": [
       "array([False, False, False, False, False, False])"
      ]
     },
     "execution_count": 35,
     "metadata": {},
     "output_type": "execute_result"
    }
   ],
   "source": [
    "spikes.eval()"
   ]
  },
  {
   "cell_type": "code",
   "execution_count": 36,
   "metadata": {},
   "outputs": [
    {
     "name": "stdout",
     "output_type": "stream",
     "text": [
      " true exec\n",
      "spikes data saved in file :  ./check/spikes.ckpt \n"
     ]
    }
   ],
   "source": [
    "\n",
    "saver = tf.train.Saver()\n",
    "\n",
    "## 변수 초기화를 명확히 해야 합니다. \n",
    "sess.run(tf.global_variables_initializer())\n",
    "\n",
    "\n",
    "for i in range(1, len(raw)) :\n",
    "    if raw[i] - raw[i-1] > 5 :\n",
    "        print(\" true exec\")\n",
    "        spike_val = spikes.eval()\n",
    "        spike_val[i] = True\n",
    "        update = tf.assign(spikes, spike_val)\n",
    "        update.eval()\n",
    "        \n",
    "save_path = saver.save(sess, \"./check/spikes.ckpt\")\n",
    "print(\"spikes data saved in file :  %s \" % save_path)\n",
    "\n",
    "sess.close()"
   ]
  },
  {
   "cell_type": "code",
   "execution_count": null,
   "metadata": {},
   "outputs": [],
   "source": []
  },
  {
   "cell_type": "markdown",
   "metadata": {},
   "source": [
    "## 변수 불러오기 "
   ]
  },
  {
   "cell_type": "code",
   "execution_count": 52,
   "metadata": {},
   "outputs": [],
   "source": [
    "sess = tf.InteractiveSession()\n"
   ]
  },
  {
   "cell_type": "code",
   "execution_count": 53,
   "metadata": {},
   "outputs": [
    {
     "name": "stdout",
     "output_type": "stream",
     "text": [
      "INFO:tensorflow:Restoring parameters from ./check/spikes.ckpt\n",
      "file not found\n"
     ]
    }
   ],
   "source": [
    "spikes = tf.Variable([False] *len(raw), name='spikes')\n",
    "\n",
    "saver = tf.train.Saver()\n",
    "try :\n",
    "    saver.restore(sess,  \"./check/spikes.ckpt\")\n",
    "    print(spikes.eval())\n",
    "    \n",
    "except :\n",
    "    print('file not found')\n",
    "    \n",
    "sess.close()"
   ]
  },
  {
   "cell_type": "code",
   "execution_count": 54,
   "metadata": {},
   "outputs": [
    {
     "name": "stdout",
     "output_type": "stream",
     "text": [
      "Help on method restore in module tensorflow.python.training.saver:\n",
      "\n",
      "restore(sess, save_path) method of tensorflow.python.training.saver.Saver instance\n",
      "    Restores previously saved variables.\n",
      "    \n",
      "    This method runs the ops added by the constructor for restoring variables.\n",
      "    It requires a session in which the graph was launched.  The variables to\n",
      "    restore do not have to have been initialized, as restoring is itself a way\n",
      "    to initialize variables.\n",
      "    \n",
      "    The `save_path` argument is typically a value previously returned from a\n",
      "    `save()` call, or a call to `latest_checkpoint()`.\n",
      "    \n",
      "    Args:\n",
      "      sess: A `Session` to use to restore the parameters. None in eager mode.\n",
      "      save_path: Path where parameters were previously saved.\n",
      "    \n",
      "    Raises:\n",
      "      ValueError: If save_path is None or not a valid checkpoint.\n",
      "\n"
     ]
    }
   ],
   "source": [
    "help(saver.restore)"
   ]
  },
  {
   "cell_type": "code",
   "execution_count": null,
   "metadata": {},
   "outputs": [],
   "source": []
  }
 ],
 "metadata": {
  "kernelspec": {
   "display_name": "tensorcpu",
   "language": "python",
   "name": "tensorcpu"
  },
  "language_info": {
   "codemirror_mode": {
    "name": "ipython",
    "version": 3
   },
   "file_extension": ".py",
   "mimetype": "text/x-python",
   "name": "python",
   "nbconvert_exporter": "python",
   "pygments_lexer": "ipython3",
   "version": "3.6.8"
  }
 },
 "nbformat": 4,
 "nbformat_minor": 2
}
